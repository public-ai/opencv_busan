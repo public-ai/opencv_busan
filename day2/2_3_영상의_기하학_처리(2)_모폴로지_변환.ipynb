{
  "nbformat": 4,
  "nbformat_minor": 0,
  "metadata": {
    "kernelspec": {
      "display_name": "Python 3",
      "language": "python",
      "name": "python3"
    },
    "language_info": {
      "codemirror_mode": {
        "name": "ipython",
        "version": 3
      },
      "file_extension": ".py",
      "mimetype": "text/x-python",
      "name": "python",
      "nbconvert_exporter": "python",
      "pygments_lexer": "ipython3",
      "version": "3.6.8"
    },
    "colab": {
      "name": "4_영상의 기하학 처리(2) 모폴로지 변환.ipynb",
      "provenance": [],
      "collapsed_sections": []
    }
  },
  "cells": [
    {
      "cell_type": "markdown",
      "metadata": {
        "id": "29BuTuwr8q7b",
        "colab_type": "text"
      },
      "source": [
        "<i><b>Public AI</b></i>\n",
        "<br>\n",
        "###  &nbsp;&nbsp; **✎&nbsp;&nbsp;Week 1. OpenCV Basis**\n",
        "# Section 4. 영상의 기하학 처리(2) 모폴로지 변환\n",
        "\n",
        "### _Objective_\n",
        "1. **모폴로지 변환** : 모폴로지 변환에 대해 알아봅니다.<br>\n",
        "2. **모폴로지 연산** : 모폴로지 변환을 바탕으로 다양한 모폴로지 연산에 대해 알아봅니다."
      ]
    },
    {
      "cell_type": "code",
      "metadata": {
        "id": "HqKzueR48q7c",
        "colab_type": "code",
        "colab": {},
        "outputId": "c39314b1-6f70-450a-8b06-f1c429d965e9"
      },
      "source": [
        "# 영상처리에 있어서 핵심적인 matplotlib과 opencv , numpy 가져오기\n",
        "%matplotlib inline\n",
        "import matplotlib.pyplot as plt\n",
        "import cv2\n",
        "import numpy as np\n",
        "import os\n",
        "if not os.path.exists(\"mophology_example.jpg\"):\n",
        "    !wget http://opencv-python-tutroals.readthedocs.io/en/latest/_images/j.png\n",
        "    os.rename(\"j.png\",\"mophology_example.jpg\")\n",
        "if not os.path.exists(\"opening_example.jpg\"):    \n",
        "    !wget https://i.imgur.com/HCtr4VQ.png\n",
        "    os.rename(\"HCtr4VQ.png\",\"opening_example.jpg\")  \n",
        "if not os.path.exists(\"closing_example.jpg\"):    \n",
        "    !wget https://i.imgur.com/gQWkM5q.png\n",
        "    os.rename(\"gQWkM5q.png\",\"closing_example.jpg\")"
      ],
      "execution_count": null,
      "outputs": [
        {
          "output_type": "stream",
          "text": [
            "URL transformed to HTTPS due to an HSTS policy\n",
            "--2019-12-26 15:27:55--  https://opencv-python-tutroals.readthedocs.io/en/latest/_images/j.png\n",
            "Resolving opencv-python-tutroals.readthedocs.io... 104.208.221.96\n",
            "Connecting to opencv-python-tutroals.readthedocs.io|104.208.221.96|:443... connected.\n",
            "HTTP request sent, awaiting response... 200 OK\n",
            "Length: 1126 (1.1K) [image/png]\n",
            "Saving to: 'j.png'\n",
            "\n",
            "j.png               100%[===================>]   1.10K  --.-KB/s    in 0s      \n",
            "\n",
            "2019-12-26 15:27:56 (107 MB/s) - 'j.png' saved [1126/1126]\n",
            "\n",
            "--2019-12-26 15:27:56--  https://i.imgur.com/HCtr4VQ.png\n",
            "Resolving i.imgur.com... 151.101.24.193\n",
            "Connecting to i.imgur.com|151.101.24.193|:443... connected.\n",
            "HTTP request sent, awaiting response... 200 OK\n",
            "Length: 13113 (13K) [image/png]\n",
            "Saving to: 'HCtr4VQ.png'\n",
            "\n",
            "HCtr4VQ.png         100%[===================>]  12.81K  --.-KB/s    in 0s      \n",
            "\n",
            "2019-12-26 15:27:57 (26.3 MB/s) - 'HCtr4VQ.png' saved [13113/13113]\n",
            "\n",
            "--2019-12-26 15:27:57--  https://i.imgur.com/gQWkM5q.png\n",
            "Resolving i.imgur.com... 151.101.24.193\n",
            "Connecting to i.imgur.com|151.101.24.193|:443... connected.\n",
            "HTTP request sent, awaiting response... 200 OK\n",
            "Length: 12930 (13K) [image/png]\n",
            "Saving to: 'gQWkM5q.png'\n",
            "\n",
            "gQWkM5q.png         100%[===================>]  12.63K  --.-KB/s    in 0.001s  \n",
            "\n",
            "2019-12-26 15:27:57 (20.2 MB/s) - 'gQWkM5q.png' saved [12930/12930]\n",
            "\n"
          ],
          "name": "stdout"
        }
      ]
    },
    {
      "cell_type": "markdown",
      "metadata": {
        "id": "RKv1BFZv8q7g",
        "colab_type": "text"
      },
      "source": [
        "# \\[ 1. Mophology 변환\\]\n",
        "\n"
      ]
    },
    {
      "cell_type": "markdown",
      "metadata": {
        "id": "ZFCX-5Ks8q7g",
        "colab_type": "text"
      },
      "source": [
        "## 1. 구조 요소 (Structuring element)\n"
      ]
    },
    {
      "cell_type": "markdown",
      "metadata": {
        "id": "2916BymV8q7h",
        "colab_type": "text"
      },
      "source": [
        "### (1) 직사각형 구조 요소\n",
        "\n"
      ]
    },
    {
      "cell_type": "code",
      "metadata": {
        "id": "taeNNMiD8q7h",
        "colab_type": "code",
        "colab": {},
        "outputId": "4fe9722c-412d-4ded-a3b8-3a796428b75c"
      },
      "source": [
        "cv2.getStructuringElement(cv2.MORPH_RECT, (5,5))"
      ],
      "execution_count": null,
      "outputs": [
        {
          "output_type": "execute_result",
          "data": {
            "text/plain": [
              "array([[0, 0, 1, 0, 0],\n",
              "       [1, 1, 1, 1, 1],\n",
              "       [1, 1, 1, 1, 1],\n",
              "       [1, 1, 1, 1, 1],\n",
              "       [0, 0, 1, 0, 0]], dtype=uint8)"
            ]
          },
          "metadata": {
            "tags": []
          },
          "execution_count": 5
        }
      ]
    },
    {
      "cell_type": "markdown",
      "metadata": {
        "id": "9fsGe9_-8q7k",
        "colab_type": "text"
      },
      "source": [
        "### (2) 타원형 구조 요소\n"
      ]
    },
    {
      "cell_type": "code",
      "metadata": {
        "id": "T6O3q09i8q7l",
        "colab_type": "code",
        "colab": {},
        "outputId": "74de17e3-ab00-4975-934d-d9ac56e1de04"
      },
      "source": [
        "cv2.getStructuringElement(cv2.MORPH_ELLIPSE,(10,5))"
      ],
      "execution_count": null,
      "outputs": [
        {
          "output_type": "execute_result",
          "data": {
            "text/plain": [
              "array([[0, 0, 0, 0, 0, 1, 0, 0, 0, 0],\n",
              "       [0, 1, 1, 1, 1, 1, 1, 1, 1, 1],\n",
              "       [1, 1, 1, 1, 1, 1, 1, 1, 1, 1],\n",
              "       [0, 1, 1, 1, 1, 1, 1, 1, 1, 1],\n",
              "       [0, 0, 0, 0, 0, 1, 0, 0, 0, 0]], dtype=uint8)"
            ]
          },
          "metadata": {
            "tags": []
          },
          "execution_count": 6
        }
      ]
    },
    {
      "cell_type": "markdown",
      "metadata": {
        "id": "fvTpJpEf8q7n",
        "colab_type": "text"
      },
      "source": [
        "### (3) 십자가형 구조 요소\n",
        "\n"
      ]
    },
    {
      "cell_type": "code",
      "metadata": {
        "id": "jJV2sdSI8q7o",
        "colab_type": "code",
        "colab": {},
        "outputId": "748fe80b-ac7a-42b8-e5ff-4c583f4fc3f2"
      },
      "source": [
        "cv2.getStructuringElement(cv2.MORPH_CROSS,(5,10), anchor=(2,3))"
      ],
      "execution_count": null,
      "outputs": [
        {
          "output_type": "execute_result",
          "data": {
            "text/plain": [
              "array([[0, 0, 1, 0, 0],\n",
              "       [0, 0, 1, 0, 0],\n",
              "       [0, 0, 1, 0, 0],\n",
              "       [1, 1, 1, 1, 1],\n",
              "       [0, 0, 1, 0, 0],\n",
              "       [0, 0, 1, 0, 0],\n",
              "       [0, 0, 1, 0, 0],\n",
              "       [0, 0, 1, 0, 0],\n",
              "       [0, 0, 1, 0, 0],\n",
              "       [0, 0, 1, 0, 0]], dtype=uint8)"
            ]
          },
          "metadata": {
            "tags": []
          },
          "execution_count": 7
        }
      ]
    },
    {
      "cell_type": "markdown",
      "metadata": {
        "id": "pB9Krb4-8q7q",
        "colab_type": "text"
      },
      "source": [
        "## 2. 팽창과 침식\n",
        "\n"
      ]
    },
    {
      "cell_type": "code",
      "metadata": {
        "id": "qPK8AHQQ8q7r",
        "colab_type": "code",
        "colab": {},
        "outputId": "f2097368-52d5-426c-f37b-8ade8fe2cbe8"
      },
      "source": [
        "# 구조 요소 설정\n",
        "kernel = cv2.getStructuringElement(cv2.MORPH_RECT,(5,5))\n",
        "\n",
        "image = cv2.imread(\"./mophology_example.jpg\", 0)\n",
        "plt.imshow(image, cmap='gray')\n",
        "plt.show()"
      ],
      "execution_count": null,
      "outputs": [
        {
          "output_type": "display_data",
          "data": {
            "image/png": "[encoded data removed]",
            "text/plain": [
              "<Figure size 432x288 with 1 Axes>"
            ]
          },
          "metadata": {
            "tags": [],
            "needs_background": "light"
          }
        }
      ]
    },
    {
      "cell_type": "markdown",
      "metadata": {
        "id": "WuE8iTNu8q7t",
        "colab_type": "text"
      },
      "source": [
        "### (1) 팽창(dilation)\n",
        "\n"
      ]
    },
    {
      "cell_type": "code",
      "metadata": {
        "id": "mAKZQTX-8q7u",
        "colab_type": "code",
        "colab": {},
        "outputId": "8826a797-1789-43ed-b6dc-71f720156561"
      },
      "source": [
        "dilation = cv2.dilate(image, kernel, iterations = 1)\n",
        "\n",
        "plt.subplot(121)\n",
        "plt.imshow(image, cmap='gray')\n",
        "plt.title('Before Dilation')\n",
        "plt.subplot(122)\n",
        "plt.imshow(dilation, cmap='gray')\n",
        "plt.title('After Dilation')\n",
        "plt.show()"
      ],
      "execution_count": null,
      "outputs": [
        {
          "output_type": "display_data",
          "data": {
            "image/png": "[encoded data removed]",
            "text/plain": [
              "<Figure size 432x288 with 2 Axes>"
            ]
          },
          "metadata": {
            "tags": [],
            "needs_background": "light"
          }
        }
      ]
    },
    {
      "cell_type": "markdown",
      "metadata": {
        "id": "LMmEeHQt8q7x",
        "colab_type": "text"
      },
      "source": [
        "### (2) 침식(erosion)\n"
      ]
    },
    {
      "cell_type": "code",
      "metadata": {
        "id": "ubGZfyR88q7y",
        "colab_type": "code",
        "colab": {},
        "outputId": "df3e90ec-9710-4910-ba04-43f8998393c0"
      },
      "source": [
        "erosion = cv2.erode(image, kernel, iterations = 1)\n",
        "\n",
        "plt.subplot(121)\n",
        "plt.imshow(image, cmap='gray')\n",
        "plt.title('Before Erosion')\n",
        "plt.subplot(122)\n",
        "plt.imshow(erosion, cmap='gray')\n",
        "plt.title('After Erosion')\n",
        "plt.show()"
      ],
      "execution_count": null,
      "outputs": [
        {
          "output_type": "display_data",
          "data": {
            "image/png": "[encoded data removed]",
            "text/plain": [
              "<Figure size 432x288 with 2 Axes>"
            ]
          },
          "metadata": {
            "tags": [],
            "needs_background": "light"
          }
        }
      ]
    },
    {
      "cell_type": "markdown",
      "metadata": {
        "id": "Q13UHsWb8q70",
        "colab_type": "text"
      },
      "source": [
        "# \\[ 2. Mophology 연산\\]\n"
      ]
    },
    {
      "cell_type": "markdown",
      "metadata": {
        "id": "IYf5sW3_8q70",
        "colab_type": "text"
      },
      "source": [
        "## 1. 다양한 모폴로지 연산\n",
        "\n"
      ]
    },
    {
      "cell_type": "markdown",
      "metadata": {
        "id": "esLReNm08q71",
        "colab_type": "text"
      },
      "source": [
        "### (1) 열림 연산 (Opening)\n",
        "\n",
        "$$OPENING~=~DILATE(ERODE(IMG))$$"
      ]
    },
    {
      "cell_type": "code",
      "metadata": {
        "scrolled": false,
        "id": "HEeo-E6e8q71",
        "colab_type": "code",
        "colab": {},
        "outputId": "f8ff7504-4947-44f3-cf74-767323f4b021"
      },
      "source": [
        "opening_image = cv2.imread(\"opening_example.jpg\", 0)\n",
        "opening = cv2.morphologyEx(opening_image, cv2.MORPH_OPEN, kernel)\n",
        "\n",
        "plt.subplot(121)\n",
        "plt.imshow(opening_image, cmap='gray')\n",
        "plt.title('Before Opening')\n",
        "plt.subplot(122)\n",
        "plt.imshow(opening, cmap='gray')\n",
        "plt.title('After Opening')\n",
        "plt.show()"
      ],
      "execution_count": null,
      "outputs": [
        {
          "output_type": "display_data",
          "data": {
            "image/png": "[encoded data removed]",
            "text/plain": [
              "<Figure size 432x288 with 2 Axes>"
            ]
          },
          "metadata": {
            "tags": [],
            "needs_background": "light"
          }
        }
      ]
    },
    {
      "cell_type": "markdown",
      "metadata": {
        "id": "TCoGOg0L8q73",
        "colab_type": "text"
      },
      "source": [
        "### (2) 닫힘 연산 (Closing)\n",
        "\n",
        "$$CLOSING~=~ERODE(DILATE(IMG))$$"
      ]
    },
    {
      "cell_type": "code",
      "metadata": {
        "scrolled": false,
        "id": "5gS706_s8q74",
        "colab_type": "code",
        "colab": {},
        "outputId": "5045df3f-33ab-430d-b6ed-4ad5ee0b32d0"
      },
      "source": [
        "closing_image = cv2.imread(\"closing_example.jpg\", 0)\n",
        "closing = cv2.morphologyEx(closing_image, cv2.MORPH_CLOSE, kernel)\n",
        "\n",
        "plt.subplot(121)\n",
        "plt.imshow(closing_image, cmap='gray')\n",
        "plt.title('Before Closing')\n",
        "plt.subplot(122)\n",
        "plt.imshow(closing, cmap='gray')\n",
        "plt.title('After Closing')\n",
        "plt.show()"
      ],
      "execution_count": null,
      "outputs": [
        {
          "output_type": "display_data",
          "data": {
            "image/png": "[encoded data removed]",
            "text/plain": [
              "<Figure size 432x288 with 2 Axes>"
            ]
          },
          "metadata": {
            "tags": [],
            "needs_background": "light"
          }
        }
      ]
    },
    {
      "cell_type": "markdown",
      "metadata": {
        "id": "ClVS4s2j8q76",
        "colab_type": "text"
      },
      "source": [
        "### (3) Morphological Gradient (Gradient 연산)\n",
        "\n",
        "$$GRADIENT~=~DILATE(IMG)~-ERODE(IMG)$$"
      ]
    },
    {
      "cell_type": "code",
      "metadata": {
        "scrolled": false,
        "id": "KMMGX0Ws8q77",
        "colab_type": "code",
        "colab": {},
        "outputId": "5cbd0d1c-3a43-45d3-b4a9-c3bc167e8553"
      },
      "source": [
        "gradient = cv2.morphologyEx(image, cv2.MORPH_GRADIENT, kernel)\n",
        "\n",
        "plt.subplot(121)\n",
        "plt.imshow(image, cmap='gray')\n",
        "plt.title('Before Gradient')\n",
        "plt.subplot(122)\n",
        "plt.imshow(gradient, cmap='gray')\n",
        "plt.title('After Gradient')\n",
        "plt.show()"
      ],
      "execution_count": null,
      "outputs": [
        {
          "output_type": "display_data",
          "data": {
            "image/png": "[encoded data removed]",
            "text/plain": [
              "<Figure size 432x288 with 2 Axes>"
            ]
          },
          "metadata": {
            "tags": [],
            "needs_background": "light"
          }
        }
      ]
    },
    {
      "cell_type": "markdown",
      "metadata": {
        "id": "xgMweUFS8q79",
        "colab_type": "text"
      },
      "source": [
        "### (4) Top Hat 연산\n",
        "$$TOPHAT~=~IMG~-OPENING(IMG)$$"
      ]
    },
    {
      "cell_type": "code",
      "metadata": {
        "scrolled": false,
        "id": "AK3cQ1XD8q7-",
        "colab_type": "code",
        "colab": {},
        "outputId": "de5ec024-5fd8-447b-ac44-709f57dc8375"
      },
      "source": [
        "# 결과를 더 확실하게 확인하기 위해 (9,9) kernel을 사용했습니다.\n",
        "tophat_kernel = cv2.getStructuringElement(cv2.MORPH_RECT,(9,9))\n",
        "tophat = cv2.morphologyEx(image, cv2.MORPH_TOPHAT, tophat_kernel)\n",
        "\n",
        "plt.subplot(121)\n",
        "plt.imshow(image, cmap='gray')\n",
        "plt.title('Before TopHat')\n",
        "plt.subplot(122)\n",
        "plt.imshow(tophat, cmap='gray')\n",
        "plt.title('After TopHat')\n",
        "plt.show()"
      ],
      "execution_count": null,
      "outputs": [
        {
          "output_type": "display_data",
          "data": {
            "image/png": "[encoded data removed]",
            "text/plain": [
              "<Figure size 432x288 with 2 Axes>"
            ]
          },
          "metadata": {
            "tags": [],
            "needs_background": "light"
          }
        }
      ]
    },
    {
      "cell_type": "markdown",
      "metadata": {
        "id": "HpBkkTQf8q8A",
        "colab_type": "text"
      },
      "source": [
        "### (5) Black Hat 연산\n",
        "연산은 원본 이미지에서 주변보다 어두운 영역만 강조합니다.\n",
        "$$BLACKHAT~=~CLOSING(IMG)~-IMG$$"
      ]
    },
    {
      "cell_type": "code",
      "metadata": {
        "scrolled": false,
        "id": "Ae7dBZY98q8A",
        "colab_type": "code",
        "colab": {},
        "outputId": "c09c417e-2983-45b1-90b2-0679324350ec"
      },
      "source": [
        "# 결과를 더 확실하게 확인하기 위해 (9,9) kernel을 사용했습니다.\n",
        "blackhat_kernel = cv2.getStructuringElement(cv2.MORPH_RECT,(9,9))\n",
        "blackhat = cv2.morphologyEx(image, cv2.MORPH_BLACKHAT, blackhat_kernel)\n",
        "\n",
        "plt.subplot(121)\n",
        "plt.imshow(image, cmap='gray')\n",
        "plt.title('Before BlackHat')\n",
        "plt.subplot(122)\n",
        "plt.imshow(blackhat, cmap='gray')\n",
        "plt.title('After BlackHat')\n",
        "plt.show()"
      ],
      "execution_count": null,
      "outputs": [
        {
          "output_type": "display_data",
          "data": {
            "image/png": "[encoded data removed]",
            "text/plain": [
              "<Figure size 432x288 with 2 Axes>"
            ]
          },
          "metadata": {
            "tags": [],
            "needs_background": "light"
          }
        }
      ]
    }
  ]
}