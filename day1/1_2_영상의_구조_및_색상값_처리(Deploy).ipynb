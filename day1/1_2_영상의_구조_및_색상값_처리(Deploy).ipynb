{
  "nbformat": 4,
  "nbformat_minor": 0,
  "metadata": {
    "colab": {
      "name": "1_2 영상의 구조 및 색상값 처리(Deploy)",
      "provenance": [],
      "private_outputs": true,
      "collapsed_sections": []
    },
    "kernelspec": {
      "name": "python3",
      "display_name": "Python 3"
    }
  },
  "cells": [
    {
      "cell_type": "markdown",
      "metadata": {
        "id": "ii3JkRgXy7TL",
        "colab_type": "text"
      },
      "source": [
        "<i><b>Public AI</b></i>\n",
        "<br>\n",
        "###  &nbsp;&nbsp; **✎&nbsp;&nbsp;Day 1. OpenCV Basis**\n",
        "# Day 1. 영상의 구조 및 색상값 처리"
      ]
    },
    {
      "cell_type": "markdown",
      "metadata": {
        "id": "GAJdMOpIzlgC",
        "colab_type": "text"
      },
      "source": [
        "# \\[ 3. 영상에서의 Histogram\\]"
      ]
    },
    {
      "cell_type": "code",
      "metadata": {
        "id": "5ci3NOrbVRGM",
        "colab_type": "code",
        "colab": {}
      },
      "source": [
        "# 영상처리에 있어서 핵심적인 matplotlib과 opencv , numpy 가져오기\n",
        "%matplotlib inline\n",
        "import matplotlib.pyplot as plt\n",
        "import cv2\n",
        "import numpy as np\n",
        "import os\n",
        "if not os.path.exists(\"len_top.jpg\"):\n",
        "    # 영상처리에 있어서 가장 많이 이용되는 Lena 이미지 활용하기\n",
        "    !wget http://www.lenna.org/len_top.jpg"
      ],
      "execution_count": null,
      "outputs": []
    },
    {
      "cell_type": "code",
      "metadata": {
        "id": "e_zvoz8FVRIP",
        "colab_type": "code",
        "colab": {}
      },
      "source": [
        "# 이미지를 불러옵니다\n",
        "\n",
        "# 이미지의 Color 을 HSV로 변경합니다. \n",
        "\n",
        "# 이미지 Value 값을 추출합니다. \n",
        "\n",
        "# 이미지의 Color 을 RGB로 변경합니다. \n",
        "\n",
        "# 이미지 Histogram을 보여줍니다. \n",
        "\n",
        "plt.title(\"histogram brightness\")\n",
        "plt.plot(hist)\n",
        "plt.show()"
      ],
      "execution_count": null,
      "outputs": []
    },
    {
      "cell_type": "markdown",
      "metadata": {
        "id": "WuGvP_uoVRIL",
        "colab_type": "text"
      },
      "source": [
        "## 1. 색깔 별 histogram 분포 그리기"
      ]
    },
    {
      "cell_type": "code",
      "metadata": {
        "scrolled": true,
        "id": "kjojPaMxVRIM",
        "colab_type": "code",
        "colab": {}
      },
      "source": [
        "# R,G,B에 대한 Histogram을 추출합니다. \n",
        "\n",
        "# R,G,B에 대한 Histogram을 시각화합니다. \n",
        "\n",
        "# 화면에 출력합니다. "
      ],
      "execution_count": null,
      "outputs": []
    },
    {
      "cell_type": "markdown",
      "metadata": {
        "id": "DfKixvGCVRIP",
        "colab_type": "text"
      },
      "source": [
        "## 2. 밝기에 대한 histogram 분포 그리기\n",
        "\n",
        "현재 RGB 형태로 존재하는 이미지즐 위에서 배운 HSV 색공간으로 바꾸어 밝기에 대한 histogram 분포를 확인해보겠습니다."
      ]
    },
    {
      "cell_type": "code",
      "metadata": {
        "colab_type": "code",
        "id": "Idr7JPtC1bSs",
        "colab": {}
      },
      "source": [
        "# 이미지를 불러옵니다\n",
        "\n",
        "# 이미지의 Color 을 HSV로 변경합니다. \n",
        "\n",
        "# 이미지 Value 값을 추출합니다. \n",
        "\n",
        "# 이미지의 Color 을 RGB로 변경합니다. \n",
        "\n",
        "# 이미지 Histogram을 보여줍니다. \n",
        "\n",
        "# 화면에 출력합니다. \n",
        "plt.title(\"histogram brightness\")\n",
        "plt.plot(hist)\n",
        "plt.show()"
      ],
      "execution_count": null,
      "outputs": []
    },
    {
      "cell_type": "markdown",
      "metadata": {
        "id": "YMWkLlF4VRIS",
        "colab_type": "text"
      },
      "source": [
        "## 3. Histogram 평활화\n"
      ]
    },
    {
      "cell_type": "markdown",
      "metadata": {
        "id": "S-xPxMd-VRIS",
        "colab_type": "text"
      },
      "source": [
        "### 예제 데이터 ) Hist_image2"
      ]
    },
    {
      "cell_type": "code",
      "metadata": {
        "id": "Pw_6yPGqVRIS",
        "colab_type": "code",
        "colab": {}
      },
      "source": [
        "# Image을 다운로드 합니다. \n",
        "if not os.path.exists(\"hist_image2.jpg\"):\n",
        "    !wget https://upload.wikimedia.org/wikipedia/commons/thumb/0/08/Unequalized_Hawkes_Bay_NZ.jpg/600px-Unequalized_Hawkes_Bay_NZ.jpg\n",
        "    os.rename('600px-Unequalized_Hawkes_Bay_NZ.jpg', 'hist_image2.jpg')"
      ],
      "execution_count": null,
      "outputs": []
    },
    {
      "cell_type": "code",
      "metadata": {
        "scrolled": true,
        "id": "C-NYmqYjVRIU",
        "colab_type": "code",
        "colab": {}
      },
      "source": [
        "# 이미지를 불러오고 RGB로 변경합니다. \n",
        "\n",
        "# 이미지를 화면에 출력합니다. "
      ],
      "execution_count": null,
      "outputs": []
    },
    {
      "cell_type": "markdown",
      "metadata": {
        "id": "abmQLgenVRIX",
        "colab_type": "text"
      },
      "source": [
        "위의 이미지는 뿌옇게 흐린 느낌으로 잘 보이지 않습니다. 위 이미지의 밝기에 대한 히스토그램을 확인해보겠습니다."
      ]
    },
    {
      "cell_type": "code",
      "metadata": {
        "id": "XDoNarAWVRIX",
        "colab_type": "code",
        "colab": {}
      },
      "source": [
        "# 이미지를 HSVㄹ로 변경 한 후 밝기에 대한 히스토그램을 확인합ㄴ디ㅏ. \n",
        "\n",
        "# 이미지를 RGB로 변경합니다. \n",
        "\n",
        "# 히스토 그램을 그립니다. \n",
        "\n",
        "# 히스토 그램을 보여줍니다. "
      ],
      "execution_count": null,
      "outputs": []
    },
    {
      "cell_type": "code",
      "metadata": {
        "id": "zHTw7LhkVRIa",
        "colab_type": "code",
        "colab": {}
      },
      "source": [
        "# 이미지를 불러옵니다. (HSV)\n",
        "\n",
        "# 밝기 정보를 추출합니다. \n",
        "\n",
        "# 밝기 정보를 한줄로 Flatten 합니다. \n",
        "\n",
        "# Cumulate Sum 을 진행합니다. \n",
        "\n",
        "# cdf의 값이 0인 경우는 mask처리를 하여 계산에서 제외\n",
        "# mask처리가 되면 Numpy 계산에서 제외가 됨\n",
        "# 아래는 cdf array에서 값이 0인 부분을 mask처리함\n",
        "\n",
        "# History Equalization 공식\n",
        "\n",
        "# Mask처리를 했던 부분을 다시 0으로 변환\n",
        "\n",
        "# 처리된 밝기 정보를 다시 입력합니다. \n",
        "\n",
        "# 이미지를 다시 RGB로 보여줍니다. \n",
        "\n",
        "# 이전과 이후를 보여줍니다. \n",
        "plt.title(\"Before Histogram Equalization\")\n",
        "plt.imshow(image)\n",
        "plt.show()\n",
        "plt.title(\"After Histogram Equalization\")\n",
        "plt.imshow(after_image)\n",
        "plt.show()"
      ],
      "execution_count": null,
      "outputs": []
    },
    {
      "cell_type": "code",
      "metadata": {
        "scrolled": true,
        "id": "2K9bd_x-VRIc",
        "colab_type": "code",
        "colab": {}
      },
      "source": [
        "# 이전과 이후 히스토그램을 보여줍니다. \n",
        "\n",
        "# 히스토그램을 보여줍니다. \n",
        "plt.title(\"after histogram equalization brightness\")\n",
        "plt.plot(hist)\n",
        "plt.show()"
      ],
      "execution_count": null,
      "outputs": []
    },
    {
      "cell_type": "code",
      "metadata": {
        "scrolled": false,
        "id": "pGnROlkhVRIe",
        "colab_type": "code",
        "colab": {}
      },
      "source": [
        "# 이미지 불러오기 \n",
        "\n",
        "# 밝기 정보를 한줄로 Flatten 합니다. \n",
        "\n",
        "# Cumulate Sum 을 진행합니다. \n",
        "\n",
        "# cdf의 값이 0인 경우는 mask처리를 하여 계산에서 제외\n",
        "# mask처리가 되면 Numpy 계산에서 제외가 됨\n",
        "# 아래는 cdf array에서 값이 0인 부분을 mask처리함\n",
        "\n",
        "#History Equalization 공식\n",
        "\n",
        "# Mask처리를 했던 부분을 다시 0으로 변환\n",
        "\n",
        "# 이미지 시각화\n"
      ],
      "execution_count": null,
      "outputs": []
    },
    {
      "cell_type": "code",
      "metadata": {
        "id": "FHzHY1YnVRIh",
        "colab_type": "code",
        "colab": {}
      },
      "source": [
        "# 이전 히스토그램 시각화 \n",
        "\n",
        "# 평활화 이후 히스토그램 시각화 "
      ],
      "execution_count": null,
      "outputs": []
    },
    {
      "cell_type": "markdown",
      "metadata": {
        "id": "Bl_-v-xQVRIj",
        "colab_type": "text"
      },
      "source": [
        "## 4. CLAHE\n",
        "\n"
      ]
    },
    {
      "cell_type": "code",
      "metadata": {
        "id": "H5lHa5ucVRIj",
        "colab_type": "code",
        "colab": {}
      },
      "source": [
        "# image 을 읽어옵니다.(HSV)\n",
        "\n",
        "# 이미지의 밝기 정보를 가져옵니다. \n",
        "\n",
        "# contrast limit가 4이고 title의 size는 16,16 인 Clahe 을 적용합니다 \n",
        "\n",
        "# 다시 RGB로 변경합니다. \n",
        "\n",
        "# 변경 전후를 시각화 합니다. \n",
        "\n",
        "\n",
        "# 클라에 전후 이미지의 histogram 정보를 시각화 합니다. "
      ],
      "execution_count": null,
      "outputs": []
    }
  ]
}